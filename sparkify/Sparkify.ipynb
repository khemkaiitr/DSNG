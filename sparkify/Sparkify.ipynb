{
 "cells": [
  {
   "cell_type": "markdown",
   "metadata": {},
   "source": [
    "# Sparkify Project Workspace\n",
    "This workspace contains a tiny subset (128MB) of the full dataset available (12GB). Feel free to use this workspace to build your project, or to explore a smaller subset with Spark before deploying your cluster on the cloud. Instructions for setting up your Spark cluster is included in the last lesson of the Extracurricular Spark Course content.\n",
    "\n",
    "You can follow the steps below to guide your data analysis and model building portion of this project."
   ]
  },
  {
   "cell_type": "code",
   "execution_count": 1,
   "metadata": {},
   "outputs": [],
   "source": [
    "# import libraries\n",
    "from pyspark.sql import SparkSession"
   ]
  },
  {
   "cell_type": "code",
   "execution_count": 2,
   "metadata": {},
   "outputs": [],
   "source": [
    "import pyspark.sql.functions as F\n",
    "from pyspark.sql.types import IntegerType, DateType\n",
    "from pyspark.sql.window import Window\n",
    "from matplotlib import pyplot as plt\n",
    "import seaborn as sns\n",
    "import datetime\n",
    "from pyspark.ml import Pipeline\n",
    "from pyspark.ml.classification import LogisticRegression\n",
    "from pyspark.ml.feature import VectorAssembler\n",
    "from pyspark.ml.classification import RandomForestClassifier"
   ]
  },
  {
   "cell_type": "code",
   "execution_count": 3,
   "metadata": {},
   "outputs": [],
   "source": [
    "# create a Spark session\n",
    "spark = SparkSession.builder.master(\"local\").appName(\"sparkify\").getOrCreate()"
   ]
  },
  {
   "cell_type": "code",
   "execution_count": 4,
   "metadata": {},
   "outputs": [],
   "source": [
    "# Read dataset\n",
    "df = spark.read.json('mini_sparkify_event_data.json')"
   ]
  },
  {
   "cell_type": "markdown",
   "metadata": {},
   "source": [
    "# Load and Clean Dataset\n",
    "In this workspace, the mini-dataset file is `mini_sparkify_event_data.json`. Load and clean the dataset, checking for invalid or missing data - for example, records without userids or sessionids. "
   ]
  },
  {
   "cell_type": "code",
   "execution_count": 5,
   "metadata": {},
   "outputs": [
    {
     "name": "stdout",
     "output_type": "stream",
     "text": [
      "+--------------------+---------+---------+------+-------------+--------+---------+-----+--------------------+------+---------------+-------------+---------+--------------------+------+-------------+--------------------+------+\n",
      "|              artist|     auth|firstName|gender|itemInSession|lastName|   length|level|            location|method|           page| registration|sessionId|                song|status|           ts|           userAgent|userId|\n",
      "+--------------------+---------+---------+------+-------------+--------+---------+-----+--------------------+------+---------------+-------------+---------+--------------------+------+-------------+--------------------+------+\n",
      "|      Martha Tilston|Logged In|    Colin|     M|           50| Freeman|277.89016| paid|     Bakersfield, CA|   PUT|       NextSong|1538173362000|       29|           Rockpools|   200|1538352117000|Mozilla/5.0 (Wind...|    30|\n",
      "|    Five Iron Frenzy|Logged In|    Micah|     M|           79|    Long|236.09424| free|Boston-Cambridge-...|   PUT|       NextSong|1538331630000|        8|              Canada|   200|1538352180000|\"Mozilla/5.0 (Win...|     9|\n",
      "|        Adam Lambert|Logged In|    Colin|     M|           51| Freeman| 282.8273| paid|     Bakersfield, CA|   PUT|       NextSong|1538173362000|       29|   Time For Miracles|   200|1538352394000|Mozilla/5.0 (Wind...|    30|\n",
      "|              Enigma|Logged In|    Micah|     M|           80|    Long|262.71302| free|Boston-Cambridge-...|   PUT|       NextSong|1538331630000|        8|Knocking On Forbi...|   200|1538352416000|\"Mozilla/5.0 (Win...|     9|\n",
      "|           Daft Punk|Logged In|    Colin|     M|           52| Freeman|223.60771| paid|     Bakersfield, CA|   PUT|       NextSong|1538173362000|       29|Harder Better Fas...|   200|1538352676000|Mozilla/5.0 (Wind...|    30|\n",
      "|The All-American ...|Logged In|    Micah|     M|           81|    Long|208.29995| free|Boston-Cambridge-...|   PUT|       NextSong|1538331630000|        8|      Don't Leave Me|   200|1538352678000|\"Mozilla/5.0 (Win...|     9|\n",
      "|The Velvet Underg...|Logged In|    Micah|     M|           82|    Long|260.46649| free|Boston-Cambridge-...|   PUT|       NextSong|1538331630000|        8|         Run Run Run|   200|1538352886000|\"Mozilla/5.0 (Win...|     9|\n",
      "|        Starflyer 59|Logged In|    Colin|     M|           53| Freeman|185.44281| paid|     Bakersfield, CA|   PUT|       NextSong|1538173362000|       29|Passengers (Old A...|   200|1538352899000|Mozilla/5.0 (Wind...|    30|\n",
      "|                null|Logged In|    Colin|     M|           54| Freeman|     null| paid|     Bakersfield, CA|   PUT|Add to Playlist|1538173362000|       29|                null|   200|1538352905000|Mozilla/5.0 (Wind...|    30|\n",
      "|            Frumpies|Logged In|    Colin|     M|           55| Freeman|134.47791| paid|     Bakersfield, CA|   PUT|       NextSong|1538173362000|       29|          Fuck Kitty|   200|1538353084000|Mozilla/5.0 (Wind...|    30|\n",
      "+--------------------+---------+---------+------+-------------+--------+---------+-----+--------------------+------+---------------+-------------+---------+--------------------+------+-------------+--------------------+------+\n",
      "only showing top 10 rows\n",
      "\n"
     ]
    }
   ],
   "source": [
    "df.show(10)"
   ]
  },
  {
   "cell_type": "code",
   "execution_count": 6,
   "metadata": {},
   "outputs": [
    {
     "name": "stdout",
     "output_type": "stream",
     "text": [
      "['artist', 'auth', 'firstName', 'gender', 'itemInSession', 'lastName', 'length', 'level', 'location', 'method', 'page', 'registration', 'sessionId', 'song', 'status', 'ts', 'userAgent', 'userId']\n"
     ]
    }
   ],
   "source": [
    "print(df.columns)"
   ]
  },
  {
   "cell_type": "code",
   "execution_count": 7,
   "metadata": {},
   "outputs": [
    {
     "name": "stdout",
     "output_type": "stream",
     "text": [
      "root\n",
      " |-- artist: string (nullable = true)\n",
      " |-- auth: string (nullable = true)\n",
      " |-- firstName: string (nullable = true)\n",
      " |-- gender: string (nullable = true)\n",
      " |-- itemInSession: long (nullable = true)\n",
      " |-- lastName: string (nullable = true)\n",
      " |-- length: double (nullable = true)\n",
      " |-- level: string (nullable = true)\n",
      " |-- location: string (nullable = true)\n",
      " |-- method: string (nullable = true)\n",
      " |-- page: string (nullable = true)\n",
      " |-- registration: long (nullable = true)\n",
      " |-- sessionId: long (nullable = true)\n",
      " |-- song: string (nullable = true)\n",
      " |-- status: long (nullable = true)\n",
      " |-- ts: long (nullable = true)\n",
      " |-- userAgent: string (nullable = true)\n",
      " |-- userId: string (nullable = true)\n",
      "\n"
     ]
    }
   ],
   "source": [
    "df.printSchema()"
   ]
  },
  {
   "cell_type": "markdown",
   "metadata": {},
   "source": [
    "# Exploratory Data Analysis\n",
    "When you're working with the full dataset, perform EDA by loading a small subset of the data and doing basic manipulations within Spark. In this workspace, you are already provided a small subset of data you can explore.\n",
    "\n",
    "### Define Churn\n",
    "\n",
    "Once you've done some preliminary analysis, create a column `Churn` to use as the label for your model. I suggest using the `Cancellation Confirmation` events to define your churn, which happen for both paid and free users. As a bonus task, you can also look into the `Downgrade` events.\n",
    "\n",
    "### Explore Data\n",
    "Once you've defined churn, perform some exploratory data analysis to observe the behavior for users who stayed vs users who churned. You can start by exploring aggregates on these two groups of users, observing how much of a specific action they experienced per a certain time unit or number of songs played."
   ]
  },
  {
   "cell_type": "markdown",
   "metadata": {},
   "source": [
    "We will first start with exploring different coloumns. Below we see what are distinct values associated with levels, method and page column"
   ]
  },
  {
   "cell_type": "code",
   "execution_count": 8,
   "metadata": {},
   "outputs": [
    {
     "data": {
      "text/plain": [
       "[Row(level='free'), Row(level='paid')]"
      ]
     },
     "execution_count": 8,
     "metadata": {},
     "output_type": "execute_result"
    }
   ],
   "source": [
    "df.select('level').distinct().collect()"
   ]
  },
  {
   "cell_type": "code",
   "execution_count": 9,
   "metadata": {},
   "outputs": [
    {
     "data": {
      "text/plain": [
       "[Row(method='PUT'), Row(method='GET')]"
      ]
     },
     "execution_count": 9,
     "metadata": {},
     "output_type": "execute_result"
    }
   ],
   "source": [
    "df.select('method').distinct().collect()"
   ]
  },
  {
   "cell_type": "code",
   "execution_count": 10,
   "metadata": {},
   "outputs": [
    {
     "data": {
      "text/plain": [
       "[Row(page='Cancel'),\n",
       " Row(page='Submit Downgrade'),\n",
       " Row(page='Thumbs Down'),\n",
       " Row(page='Home'),\n",
       " Row(page='Downgrade'),\n",
       " Row(page='Roll Advert'),\n",
       " Row(page='Logout'),\n",
       " Row(page='Save Settings'),\n",
       " Row(page='Cancellation Confirmation'),\n",
       " Row(page='About'),\n",
       " Row(page='Submit Registration'),\n",
       " Row(page='Settings'),\n",
       " Row(page='Login'),\n",
       " Row(page='Register'),\n",
       " Row(page='Add to Playlist'),\n",
       " Row(page='Add Friend'),\n",
       " Row(page='NextSong'),\n",
       " Row(page='Thumbs Up'),\n",
       " Row(page='Help'),\n",
       " Row(page='Upgrade'),\n",
       " Row(page='Error'),\n",
       " Row(page='Submit Upgrade')]"
      ]
     },
     "execution_count": 10,
     "metadata": {},
     "output_type": "execute_result"
    }
   ],
   "source": [
    "df.select(\"page\").distinct().collect()"
   ]
  },
  {
   "cell_type": "code",
   "execution_count": 11,
   "metadata": {},
   "outputs": [
    {
     "data": {
      "text/plain": [
       "226"
      ]
     },
     "execution_count": 11,
     "metadata": {},
     "output_type": "execute_result"
    }
   ],
   "source": [
    "# Remove column with null value or empty userid or null gender\n",
    "df = df.filter(df[\"userId\"] != \"\")\n",
    "# Now compute total distinct users in the dataframe\n",
    "df.select(\"userId\").distinct().count()"
   ]
  },
  {
   "cell_type": "code",
   "execution_count": 12,
   "metadata": {},
   "outputs": [
    {
     "data": {
      "text/plain": [
       "2354"
      ]
     },
     "execution_count": 12,
     "metadata": {},
     "output_type": "execute_result"
    }
   ],
   "source": [
    "# Lets count total number of unique session Ids\n",
    "df.select('sessionId').dropDuplicates().count()"
   ]
  },
  {
   "cell_type": "code",
   "execution_count": 14,
   "metadata": {},
   "outputs": [],
   "source": [
    "# Create a churn column as suggested, I am also looking at submit downgrade or downgrade events separately\n",
    "df = df.withColumn(\"churn\", F.when(df.page == \"Cancellation Confirmation\", 1).otherwise(0))\n",
    "df = df.withColumn(\"downgrade\", F.when((df.page == \"Submit Downgrade\") | (df.page == 'Downgrade'), 1).otherwise(0))\n",
    "df = df.withColumn(\"cancelled\", F.when((df.page == 'Cancel'), 1).otherwise(0))"
   ]
  },
  {
   "cell_type": "code",
   "execution_count": 15,
   "metadata": {},
   "outputs": [
    {
     "name": "stdout",
     "output_type": "stream",
     "text": [
      "+-----+------------+\n",
      "|churn|count(churn)|\n",
      "+-----+------------+\n",
      "|    1|          52|\n",
      "|    0|      278102|\n",
      "+-----+------------+\n",
      "\n"
     ]
    }
   ],
   "source": [
    "df.groupBy('churn').agg(F.count('churn')).show()"
   ]
  },
  {
   "cell_type": "code",
   "execution_count": 16,
   "metadata": {},
   "outputs": [
    {
     "name": "stdout",
     "output_type": "stream",
     "text": [
      "+---------+----------------+\n",
      "|downgrade|count(downgrade)|\n",
      "+---------+----------------+\n",
      "|        1|            2118|\n",
      "|        0|          276036|\n",
      "+---------+----------------+\n",
      "\n"
     ]
    }
   ],
   "source": [
    "df.groupBy('downgrade').agg(F.count('downgrade')).show()"
   ]
  },
  {
   "cell_type": "markdown",
   "metadata": {},
   "source": [
    "### Discussion 1: From above two tables, we can observe that there are only 52 churn events. So most of users can be assumed to not churn. For downgrade events there are more events, so a larger proportion of users visit downgrade page or submit downgrade option"
   ]
  },
  {
   "cell_type": "code",
   "execution_count": 17,
   "metadata": {},
   "outputs": [
    {
     "name": "stdout",
     "output_type": "stream",
     "text": [
      "+-----+-----+------------+\n",
      "|churn|level|count(churn)|\n",
      "+-----+-----+------------+\n",
      "|    0| free|       55700|\n",
      "|    0| paid|      222402|\n",
      "|    1| paid|          31|\n",
      "|    1| free|          21|\n",
      "+-----+-----+------------+\n",
      "\n"
     ]
    }
   ],
   "source": [
    "# we now analyse if churn depends on user level. \n",
    "df.groupBy('churn', 'level').agg(F.count('churn')).show()"
   ]
  },
  {
   "cell_type": "code",
   "execution_count": 18,
   "metadata": {},
   "outputs": [
    {
     "name": "stdout",
     "output_type": "stream",
     "text": [
      "+-------+------------------+------------------+\n",
      "|summary|            userId|        sum(churn)|\n",
      "+-------+------------------+------------------+\n",
      "|  count|               225|               225|\n",
      "|   mean|65391.013333333336|0.2311111111111111|\n",
      "| stddev|105396.47791907164|0.4224832108996327|\n",
      "|    min|                10|                 0|\n",
      "|    max|                99|                 1|\n",
      "+-------+------------------+------------------+\n",
      "\n"
     ]
    }
   ],
   "source": [
    "# Describe statistics of churn events when grouped by userID. \n",
    "df.select(['userId', 'churn']).groupBy('userId').sum('churn').describe().show()"
   ]
  },
  {
   "cell_type": "code",
   "execution_count": 19,
   "metadata": {},
   "outputs": [],
   "source": [
    "# Lets see effect of gender in churn\n",
    "churn_per = df.select(['gender', 'churn', 'userId']) \\\n",
    "    .distinct().groupby('churn', 'gender') \\\n",
    "    .agg(F.count('gender').alias('gender_count')) \\\n",
    "    .withColumn(\"per_gender_count\", F.col(\"gender_count\") / F.sum(\"gender_count\").over(Window.partitionBy(\"churn\")))"
   ]
  },
  {
   "cell_type": "code",
   "execution_count": 20,
   "metadata": {},
   "outputs": [],
   "source": [
    "churn_df = churn_per.toPandas()"
   ]
  },
  {
   "cell_type": "markdown",
   "metadata": {},
   "source": [
    "churn_df"
   ]
  },
  {
   "cell_type": "code",
   "execution_count": 21,
   "metadata": {},
   "outputs": [
    {
     "data": {
      "text/plain": [
       "<matplotlib.axes._subplots.AxesSubplot at 0x7f9c6db78908>"
      ]
     },
     "execution_count": 21,
     "metadata": {},
     "output_type": "execute_result"
    },
    {
     "data": {
      "image/png": "[encoded data removed]",
      "text/plain": [
       "<matplotlib.figure.Figure at 0x7f9c6db803c8>"
      ]
     },
     "metadata": {
      "needs_background": "light"
     },
     "output_type": "display_data"
    }
   ],
   "source": [
    "sns.barplot(x = \"churn\",       # x variable name\n",
    "            y = \"per_gender_count\",       # y variable name\n",
    "            hue = \"gender\",  # group variable name\n",
    "            data = churn_df)"
   ]
  },
  {
   "cell_type": "markdown",
   "metadata": {},
   "source": [
    "### Discussion  2: In both the cases churn vs non-churn - Male has higher percentage than females. Further there are more male users than female.\n"
   ]
  },
  {
   "cell_type": "code",
   "execution_count": 61,
   "metadata": {},
   "outputs": [
    {
     "name": "stdout",
     "output_type": "stream",
     "text": [
      "+-----+------------------+\n",
      "|churn|    mean_next_song|\n",
      "+-----+------------------+\n",
      "|    1|               1.0|\n",
      "|    0|0.1797685741202868|\n",
      "+-----+------------------+\n",
      "\n"
     ]
    }
   ],
   "source": [
    "# Lets try to analyse customers (churned or not churned) based on different page visits\n",
    "df.withColumn('next_song', F.when(df.page == \"NextSong\", 0)\\\n",
    "              .otherwise(1)).groupBy('churn').agg(F.mean('next_song').alias('mean_next_song')).show()"
   ]
  },
  {
   "cell_type": "code",
   "execution_count": 24,
   "metadata": {},
   "outputs": [
    {
     "name": "stdout",
     "output_type": "stream",
     "text": [
      "+-------------+\n",
      "| registration|\n",
      "+-------------+\n",
      "|1538016340000|\n",
      "+-------------+\n",
      "\n"
     ]
    }
   ],
   "source": [
    "df.filter(df.userId==100010).select('registration').distinct().show()"
   ]
  },
  {
   "cell_type": "code",
   "execution_count": 25,
   "metadata": {},
   "outputs": [
    {
     "name": "stdout",
     "output_type": "stream",
     "text": [
      "+------+---------+\n",
      "|userId|reg_count|\n",
      "+------+---------+\n",
      "|100010|        1|\n",
      "|200002|        1|\n",
      "|   125|        1|\n",
      "|    51|        1|\n",
      "|   124|        1|\n",
      "+------+---------+\n",
      "only showing top 5 rows\n",
      "\n"
     ]
    }
   ],
   "source": [
    "# so each user seems to have one registration id.. some may have multiples. Let count it for each user\n",
    "df.select(['userId', 'registration']).groupBy('userId').agg(F.countDistinct('registration').alias('reg_count')).\\\n",
    "    orderBy(F.desc('reg_count')).show(5)"
   ]
  },
  {
   "cell_type": "markdown",
   "metadata": {},
   "source": [
    "### Discussion 3: From above table it is clear that each user has only one registration ID. So registration id is a unqiue attribute and is not of much importance when doing any kind of modelling"
   ]
  },
  {
   "cell_type": "code",
   "execution_count": 26,
   "metadata": {},
   "outputs": [],
   "source": [
    "# Create a window partition over userID and order by time stamp\n",
    "windowval = Window.partitionBy(\"userId\").orderBy(F.desc(\"ts\")).rangeBetween(Window.unboundedPreceding, 0)"
   ]
  },
  {
   "cell_type": "code",
   "execution_count": 27,
   "metadata": {},
   "outputs": [],
   "source": [
    "df = df.withColumn(\"churn_phase\", F.sum(\"churn\").over(windowval))\n",
    "# Any user who churns will have churn_phase == 1"
   ]
  },
  {
   "cell_type": "code",
   "execution_count": 28,
   "metadata": {},
   "outputs": [
    {
     "name": "stdout",
     "output_type": "stream",
     "text": [
      "+------+-----+\n",
      "|userId|churn|\n",
      "+------+-----+\n",
      "|    18|    1|\n",
      "|    32|    1|\n",
      "|   125|    1|\n",
      "|   105|    1|\n",
      "|    17|    1|\n",
      "|   143|    1|\n",
      "|   101|    1|\n",
      "|   129|    1|\n",
      "|   121|    1|\n",
      "|    51|    1|\n",
      "+------+-----+\n",
      "only showing top 10 rows\n",
      "\n"
     ]
    }
   ],
   "source": [
    "df.select([\"userId\", \"churn\"]).where(df.churn == 1).show(10)"
   ]
  },
  {
   "cell_type": "code",
   "execution_count": 29,
   "metadata": {},
   "outputs": [
    {
     "data": {
      "text/plain": [
       "[Row(userId='19', firstname='Isabella', ts=1539105419000, page='NextSong', level='paid', churn_phase=0),\n",
       " Row(userId='19', firstname='Isabella', ts=1539105716000, page='NextSong', level='paid', churn_phase=0),\n",
       " Row(userId='19', firstname='Isabella', ts=1539105906000, page='NextSong', level='paid', churn_phase=0),\n",
       " Row(userId='19', firstname='Isabella', ts=1539106085000, page='NextSong', level='paid', churn_phase=0),\n",
       " Row(userId='19', firstname='Isabella', ts=1539106353000, page='NextSong', level='paid', churn_phase=0),\n",
       " Row(userId='19', firstname='Isabella', ts=1539106524000, page='NextSong', level='paid', churn_phase=0),\n",
       " Row(userId='19', firstname='Isabella', ts=1539106730000, page='NextSong', level='paid', churn_phase=0),\n",
       " Row(userId='19', firstname='Isabella', ts=1539107043000, page='NextSong', level='paid', churn_phase=0),\n",
       " Row(userId='19', firstname='Isabella', ts=1539107044000, page='Logout', level='paid', churn_phase=0),\n",
       " Row(userId='19', firstname='Isabella', ts=1539107067000, page='Home', level='paid', churn_phase=0),\n",
       " Row(userId='19', firstname='Isabella', ts=1539107256000, page='NextSong', level='paid', churn_phase=0),\n",
       " Row(userId='19', firstname='Isabella', ts=1539107480000, page='NextSong', level='paid', churn_phase=0),\n",
       " Row(userId='19', firstname='Isabella', ts=1539107481000, page='Add Friend', level='paid', churn_phase=0),\n",
       " Row(userId='19', firstname='Isabella', ts=1539107714000, page='NextSong', level='paid', churn_phase=0),\n",
       " Row(userId='19', firstname='Isabella', ts=1539107879000, page='NextSong', level='paid', churn_phase=0),\n",
       " Row(userId='19', firstname='Isabella', ts=1539108120000, page='NextSong', level='paid', churn_phase=0),\n",
       " Row(userId='19', firstname='Isabella', ts=1539108162000, page='Add to Playlist', level='paid', churn_phase=0),\n",
       " Row(userId='19', firstname='Isabella', ts=1539108349000, page='NextSong', level='paid', churn_phase=0),\n",
       " Row(userId='19', firstname='Isabella', ts=1539108508000, page='NextSong', level='paid', churn_phase=0),\n",
       " Row(userId='19', firstname='Isabella', ts=1539108722000, page='NextSong', level='paid', churn_phase=0),\n",
       " Row(userId='19', firstname='Isabella', ts=1539108988000, page='NextSong', level='paid', churn_phase=0),\n",
       " Row(userId='19', firstname='Isabella', ts=1539109215000, page='NextSong', level='paid', churn_phase=0),\n",
       " Row(userId='19', firstname='Isabella', ts=1539109376000, page='NextSong', level='paid', churn_phase=0),\n",
       " Row(userId='19', firstname='Isabella', ts=1539109552000, page='NextSong', level='paid', churn_phase=0),\n",
       " Row(userId='19', firstname='Isabella', ts=1539109744000, page='NextSong', level='paid', churn_phase=0),\n",
       " Row(userId='19', firstname='Isabella', ts=1539110115000, page='NextSong', level='paid', churn_phase=0),\n",
       " Row(userId='19', firstname='Isabella', ts=1539110264000, page='NextSong', level='paid', churn_phase=0),\n",
       " Row(userId='19', firstname='Isabella', ts=1539110579000, page='NextSong', level='paid', churn_phase=0),\n",
       " Row(userId='19', firstname='Isabella', ts=1539110820000, page='NextSong', level='paid', churn_phase=0),\n",
       " Row(userId='19', firstname='Isabella', ts=1539111046000, page='NextSong', level='paid', churn_phase=0),\n",
       " Row(userId='19', firstname='Isabella', ts=1539111284000, page='NextSong', level='paid', churn_phase=0),\n",
       " Row(userId='19', firstname='Isabella', ts=1539111502000, page='NextSong', level='paid', churn_phase=0),\n",
       " Row(userId='19', firstname='Isabella', ts=1539111794000, page='NextSong', level='paid', churn_phase=0),\n",
       " Row(userId='19', firstname='Isabella', ts=1539112101000, page='NextSong', level='paid', churn_phase=0),\n",
       " Row(userId='19', firstname='Isabella', ts=1539112323000, page='NextSong', level='paid', churn_phase=0),\n",
       " Row(userId='19', firstname='Isabella', ts=1539112669000, page='NextSong', level='paid', churn_phase=0),\n",
       " Row(userId='19', firstname='Isabella', ts=1539112849000, page='NextSong', level='paid', churn_phase=0),\n",
       " Row(userId='19', firstname='Isabella', ts=1539112949000, page='NextSong', level='paid', churn_phase=0),\n",
       " Row(userId='19', firstname='Isabella', ts=1539113195000, page='NextSong', level='paid', churn_phase=0),\n",
       " Row(userId='19', firstname='Isabella', ts=1539113383000, page='NextSong', level='paid', churn_phase=0),\n",
       " Row(userId='19', firstname='Isabella', ts=1539113542000, page='NextSong', level='paid', churn_phase=0),\n",
       " Row(userId='19', firstname='Isabella', ts=1539113726000, page='NextSong', level='paid', churn_phase=0),\n",
       " Row(userId='19', firstname='Isabella', ts=1539114351000, page='NextSong', level='paid', churn_phase=0),\n",
       " Row(userId='19', firstname='Isabella', ts=1539114589000, page='NextSong', level='paid', churn_phase=0),\n",
       " Row(userId='19', firstname='Isabella', ts=1539114844000, page='NextSong', level='paid', churn_phase=0),\n",
       " Row(userId='19', firstname='Isabella', ts=1539115068000, page='NextSong', level='paid', churn_phase=0),\n",
       " Row(userId='19', firstname='Isabella', ts=1539115306000, page='NextSong', level='paid', churn_phase=0),\n",
       " Row(userId='19', firstname='Isabella', ts=1539115524000, page='NextSong', level='paid', churn_phase=0),\n",
       " Row(userId='19', firstname='Isabella', ts=1539115768000, page='NextSong', level='paid', churn_phase=0),\n",
       " Row(userId='19', firstname='Isabella', ts=1539115776000, page='Downgrade', level='paid', churn_phase=0),\n",
       " Row(userId='19', firstname='Isabella', ts=1539115952000, page='NextSong', level='paid', churn_phase=0),\n",
       " Row(userId='19', firstname='Isabella', ts=1539115961000, page='Home', level='paid', churn_phase=0),\n",
       " Row(userId='19', firstname='Isabella', ts=1539116160000, page='NextSong', level='paid', churn_phase=0),\n",
       " Row(userId='19', firstname='Isabella', ts=1539116387000, page='NextSong', level='paid', churn_phase=0),\n",
       " Row(userId='19', firstname='Isabella', ts=1539116624000, page='NextSong', level='paid', churn_phase=0),\n",
       " Row(userId='19', firstname='Isabella', ts=1539116700000, page='Downgrade', level='paid', churn_phase=0),\n",
       " Row(userId='19', firstname='Isabella', ts=1539116897000, page='NextSong', level='paid', churn_phase=0),\n",
       " Row(userId='19', firstname='Isabella', ts=1539116898000, page='Thumbs Down', level='paid', churn_phase=0),\n",
       " Row(userId='19', firstname='Isabella', ts=1539117188000, page='NextSong', level='paid', churn_phase=0),\n",
       " Row(userId='19', firstname='Isabella', ts=1539117437000, page='NextSong', level='paid', churn_phase=0),\n",
       " Row(userId='19', firstname='Isabella', ts=1539117605000, page='NextSong', level='paid', churn_phase=0),\n",
       " Row(userId='19', firstname='Isabella', ts=1539117837000, page='NextSong', level='paid', churn_phase=0),\n",
       " Row(userId='19', firstname='Isabella', ts=1539118038000, page='NextSong', level='paid', churn_phase=0),\n",
       " Row(userId='19', firstname='Isabella', ts=1539118242000, page='NextSong', level='paid', churn_phase=0),\n",
       " Row(userId='19', firstname='Isabella', ts=1539118243000, page='Thumbs Up', level='paid', churn_phase=0),\n",
       " Row(userId='19', firstname='Isabella', ts=1539118536000, page='NextSong', level='paid', churn_phase=0),\n",
       " Row(userId='19', firstname='Isabella', ts=1539118758000, page='NextSong', level='paid', churn_phase=0),\n",
       " Row(userId='19', firstname='Isabella', ts=1539118852000, page='NextSong', level='paid', churn_phase=0),\n",
       " Row(userId='19', firstname='Isabella', ts=1539119126000, page='NextSong', level='paid', churn_phase=0),\n",
       " Row(userId='19', firstname='Isabella', ts=1539119329000, page='NextSong', level='paid', churn_phase=0),\n",
       " Row(userId='19', firstname='Isabella', ts=1539119491000, page='NextSong', level='paid', churn_phase=0),\n",
       " Row(userId='19', firstname='Isabella', ts=1539119858000, page='NextSong', level='paid', churn_phase=0),\n",
       " Row(userId='19', firstname='Isabella', ts=1539121786000, page='NextSong', level='paid', churn_phase=0),\n",
       " Row(userId='19', firstname='Isabella', ts=1539121787000, page='Thumbs Up', level='paid', churn_phase=0),\n",
       " Row(userId='19', firstname='Isabella', ts=1539122036000, page='NextSong', level='paid', churn_phase=0),\n",
       " Row(userId='19', firstname='Isabella', ts=1539122271000, page='NextSong', level='paid', churn_phase=0),\n",
       " Row(userId='19', firstname='Isabella', ts=1539122503000, page='NextSong', level='paid', churn_phase=0),\n",
       " Row(userId='19', firstname='Isabella', ts=1539122719000, page='NextSong', level='paid', churn_phase=0),\n",
       " Row(userId='19', firstname='Isabella', ts=1539122901000, page='NextSong', level='paid', churn_phase=0),\n",
       " Row(userId='19', firstname='Isabella', ts=1539123125000, page='NextSong', level='paid', churn_phase=0),\n",
       " Row(userId='19', firstname='Isabella', ts=1539123451000, page='NextSong', level='paid', churn_phase=0),\n",
       " Row(userId='19', firstname='Isabella', ts=1539123717000, page='NextSong', level='paid', churn_phase=0),\n",
       " Row(userId='19', firstname='Isabella', ts=1539123962000, page='NextSong', level='paid', churn_phase=0),\n",
       " Row(userId='19', firstname='Isabella', ts=1539124154000, page='NextSong', level='paid', churn_phase=0),\n",
       " Row(userId='19', firstname='Isabella', ts=1539124400000, page='NextSong', level='paid', churn_phase=0),\n",
       " Row(userId='19', firstname='Isabella', ts=1539124401000, page='Logout', level='paid', churn_phase=0),\n",
       " Row(userId='19', firstname='Isabella', ts=1539124710000, page='Home', level='paid', churn_phase=0),\n",
       " Row(userId='19', firstname='Isabella', ts=1539124740000, page='NextSong', level='paid', churn_phase=0),\n",
       " Row(userId='19', firstname='Isabella', ts=1539124967000, page='NextSong', level='paid', churn_phase=0),\n",
       " Row(userId='19', firstname='Isabella', ts=1539125181000, page='NextSong', level='paid', churn_phase=0),\n",
       " Row(userId='19', firstname='Isabella', ts=1539125182000, page='Add Friend', level='paid', churn_phase=0),\n",
       " Row(userId='19', firstname='Isabella', ts=1539125384000, page='NextSong', level='paid', churn_phase=0),\n",
       " Row(userId='19', firstname='Isabella', ts=1539125592000, page='NextSong', level='paid', churn_phase=0),\n",
       " Row(userId='19', firstname='Isabella', ts=1539125822000, page='NextSong', level='paid', churn_phase=0),\n",
       " Row(userId='19', firstname='Isabella', ts=1539125823000, page='Logout', level='paid', churn_phase=0),\n",
       " Row(userId='19', firstname='Isabella', ts=1539125895000, page='Home', level='paid', churn_phase=0),\n",
       " Row(userId='19', firstname='Isabella', ts=1539126027000, page='NextSong', level='paid', churn_phase=0),\n",
       " Row(userId='19', firstname='Isabella', ts=1539126168000, page='NextSong', level='paid', churn_phase=0),\n",
       " Row(userId='19', firstname='Isabella', ts=1539126413000, page='NextSong', level='paid', churn_phase=0),\n",
       " Row(userId='19', firstname='Isabella', ts=1539127068000, page='NextSong', level='paid', churn_phase=0),\n",
       " Row(userId='19', firstname='Isabella', ts=1539127451000, page='NextSong', level='paid', churn_phase=0),\n",
       " Row(userId='19', firstname='Isabella', ts=1539127709000, page='NextSong', level='paid', churn_phase=0),\n",
       " Row(userId='19', firstname='Isabella', ts=1539127981000, page='NextSong', level='paid', churn_phase=0),\n",
       " Row(userId='19', firstname='Isabella', ts=1539128315000, page='NextSong', level='paid', churn_phase=0),\n",
       " Row(userId='19', firstname='Isabella', ts=1539128663000, page='NextSong', level='paid', churn_phase=0),\n",
       " Row(userId='19', firstname='Isabella', ts=1539129318000, page='NextSong', level='paid', churn_phase=0),\n",
       " Row(userId='19', firstname='Isabella', ts=1539129578000, page='NextSong', level='paid', churn_phase=0),\n",
       " Row(userId='19', firstname='Isabella', ts=1539129761000, page='NextSong', level='paid', churn_phase=0),\n",
       " Row(userId='19', firstname='Isabella', ts=1539129994000, page='NextSong', level='paid', churn_phase=0),\n",
       " Row(userId='19', firstname='Isabella', ts=1539130228000, page='NextSong', level='paid', churn_phase=0),\n",
       " Row(userId='19', firstname='Isabella', ts=1539130456000, page='NextSong', level='paid', churn_phase=0),\n",
       " Row(userId='19', firstname='Isabella', ts=1539130651000, page='NextSong', level='paid', churn_phase=0),\n",
       " Row(userId='19', firstname='Isabella', ts=1539130785000, page='NextSong', level='paid', churn_phase=0),\n",
       " Row(userId='19', firstname='Isabella', ts=1539131037000, page='NextSong', level='paid', churn_phase=0),\n",
       " Row(userId='19', firstname='Isabella', ts=1539131465000, page='NextSong', level='paid', churn_phase=0),\n",
       " Row(userId='19', firstname='Isabella', ts=1539131553000, page='Add to Playlist', level='paid', churn_phase=0),\n",
       " Row(userId='19', firstname='Isabella', ts=1539131678000, page='NextSong', level='paid', churn_phase=0),\n",
       " Row(userId='19', firstname='Isabella', ts=1539131956000, page='NextSong', level='paid', churn_phase=0),\n",
       " Row(userId='19', firstname='Isabella', ts=1539132217000, page='NextSong', level='paid', churn_phase=0),\n",
       " Row(userId='19', firstname='Isabella', ts=1539132458000, page='NextSong', level='paid', churn_phase=0),\n",
       " Row(userId='19', firstname='Isabella', ts=1539132845000, page='NextSong', level='paid', churn_phase=0),\n",
       " Row(userId='19', firstname='Isabella', ts=1539133119000, page='NextSong', level='paid', churn_phase=0),\n",
       " Row(userId='19', firstname='Isabella', ts=1539133388000, page='NextSong', level='paid', churn_phase=0),\n",
       " Row(userId='19', firstname='Isabella', ts=1539133574000, page='NextSong', level='paid', churn_phase=0),\n",
       " Row(userId='19', firstname='Isabella', ts=1539133803000, page='NextSong', level='paid', churn_phase=0),\n",
       " Row(userId='19', firstname='Isabella', ts=1539134145000, page='NextSong', level='paid', churn_phase=0),\n",
       " Row(userId='19', firstname='Isabella', ts=1539134402000, page='NextSong', level='paid', churn_phase=0),\n",
       " Row(userId='19', firstname='Isabella', ts=1539134402000, page='Add to Playlist', level='paid', churn_phase=0),\n",
       " Row(userId='19', firstname='Isabella', ts=1539134550000, page='NextSong', level='paid', churn_phase=0),\n",
       " Row(userId='19', firstname='Isabella', ts=1539134761000, page='NextSong', level='paid', churn_phase=0),\n",
       " Row(userId='19', firstname='Isabella', ts=1539135044000, page='NextSong', level='paid', churn_phase=0),\n",
       " Row(userId='19', firstname='Isabella', ts=1539135149000, page='NextSong', level='paid', churn_phase=0),\n",
       " Row(userId='19', firstname='Isabella', ts=1539135324000, page='NextSong', level='paid', churn_phase=0),\n",
       " Row(userId='19', firstname='Isabella', ts=1539135526000, page='NextSong', level='paid', churn_phase=0),\n",
       " Row(userId='19', firstname='Isabella', ts=1539135717000, page='NextSong', level='paid', churn_phase=0),\n",
       " Row(userId='19', firstname='Isabella', ts=1539135961000, page='NextSong', level='paid', churn_phase=0),\n",
       " Row(userId='19', firstname='Isabella', ts=1539136321000, page='NextSong', level='paid', churn_phase=0),\n",
       " Row(userId='19', firstname='Isabella', ts=1539136322000, page='Thumbs Up', level='paid', churn_phase=0),\n",
       " Row(userId='19', firstname='Isabella', ts=1539136976000, page='NextSong', level='paid', churn_phase=0),\n",
       " Row(userId='19', firstname='Isabella', ts=1539137195000, page='NextSong', level='paid', churn_phase=0),\n",
       " Row(userId='19', firstname='Isabella', ts=1539137404000, page='NextSong', level='paid', churn_phase=0),\n",
       " Row(userId='19', firstname='Isabella', ts=1539137521000, page='NextSong', level='paid', churn_phase=0),\n",
       " Row(userId='19', firstname='Isabella', ts=1539137720000, page='NextSong', level='paid', churn_phase=0),\n",
       " Row(userId='19', firstname='Isabella', ts=1539138068000, page='NextSong', level='paid', churn_phase=0),\n",
       " Row(userId='19', firstname='Isabella', ts=1539138399000, page='NextSong', level='paid', churn_phase=0),\n",
       " Row(userId='19', firstname='Isabella', ts=1539138565000, page='NextSong', level='paid', churn_phase=0),\n",
       " Row(userId='19', firstname='Isabella', ts=1539138945000, page='NextSong', level='paid', churn_phase=0),\n",
       " Row(userId='19', firstname='Isabella', ts=1539139659000, page='NextSong', level='paid', churn_phase=0),\n",
       " Row(userId='19', firstname='Isabella', ts=1539139668000, page='Add to Playlist', level='paid', churn_phase=0),\n",
       " Row(userId='19', firstname='Isabella', ts=1539140070000, page='NextSong', level='paid', churn_phase=0),\n",
       " Row(userId='19', firstname='Isabella', ts=1539140274000, page='NextSong', level='paid', churn_phase=0),\n",
       " Row(userId='19', firstname='Isabella', ts=1539140473000, page='NextSong', level='paid', churn_phase=0),\n",
       " Row(userId='19', firstname='Isabella', ts=1539140654000, page='NextSong', level='paid', churn_phase=0),\n",
       " Row(userId='19', firstname='Isabella', ts=1539140907000, page='NextSong', level='paid', churn_phase=0),\n",
       " Row(userId='19', firstname='Isabella', ts=1539141179000, page='NextSong', level='paid', churn_phase=0),\n",
       " Row(userId='19', firstname='Isabella', ts=1539141454000, page='NextSong', level='paid', churn_phase=0),\n",
       " Row(userId='19', firstname='Isabella', ts=1539141637000, page='NextSong', level='paid', churn_phase=0),\n",
       " Row(userId='19', firstname='Isabella', ts=1539141857000, page='NextSong', level='paid', churn_phase=0),\n",
       " Row(userId='19', firstname='Isabella', ts=1539141992000, page='NextSong', level='paid', churn_phase=0),\n",
       " Row(userId='19', firstname='Isabella', ts=1539142251000, page='NextSong', level='paid', churn_phase=0),\n",
       " Row(userId='19', firstname='Isabella', ts=1539142472000, page='NextSong', level='paid', churn_phase=0),\n",
       " Row(userId='19', firstname='Isabella', ts=1539143007000, page='NextSong', level='paid', churn_phase=0),\n",
       " Row(userId='19', firstname='Isabella', ts=1539143359000, page='NextSong', level='paid', churn_phase=0),\n",
       " Row(userId='19', firstname='Isabella', ts=1539143563000, page='NextSong', level='paid', churn_phase=0),\n",
       " Row(userId='19', firstname='Isabella', ts=1539143816000, page='NextSong', level='paid', churn_phase=0),\n",
       " Row(userId='19', firstname='Isabella', ts=1539144036000, page='NextSong', level='paid', churn_phase=0),\n",
       " Row(userId='19', firstname='Isabella', ts=1539144073000, page='Add to Playlist', level='paid', churn_phase=0),\n",
       " Row(userId='19', firstname='Isabella', ts=1539144074000, page='Thumbs Up', level='paid', churn_phase=0),\n",
       " Row(userId='19', firstname='Isabella', ts=1539144218000, page='NextSong', level='paid', churn_phase=0),\n",
       " Row(userId='19', firstname='Isabella', ts=1539144471000, page='NextSong', level='paid', churn_phase=0),\n",
       " Row(userId='19', firstname='Isabella', ts=1539144714000, page='NextSong', level='paid', churn_phase=0),\n",
       " Row(userId='19', firstname='Isabella', ts=1539144826000, page='NextSong', level='paid', churn_phase=0),\n",
       " Row(userId='19', firstname='Isabella', ts=1539145045000, page='NextSong', level='paid', churn_phase=0),\n",
       " Row(userId='19', firstname='Isabella', ts=1539145279000, page='NextSong', level='paid', churn_phase=0),\n",
       " Row(userId='19', firstname='Isabella', ts=1539145386000, page='NextSong', level='paid', churn_phase=0),\n",
       " Row(userId='19', firstname='Isabella', ts=1539145587000, page='NextSong', level='paid', churn_phase=0),\n",
       " Row(userId='19', firstname='Isabella', ts=1539145776000, page='NextSong', level='paid', churn_phase=0),\n",
       " Row(userId='19', firstname='Isabella', ts=1539145966000, page='NextSong', level='paid', churn_phase=0),\n",
       " Row(userId='19', firstname='Isabella', ts=1539146140000, page='NextSong', level='paid', churn_phase=0),\n",
       " Row(userId='19', firstname='Isabella', ts=1539146394000, page='NextSong', level='paid', churn_phase=0),\n",
       " Row(userId='19', firstname='Isabella', ts=1539146626000, page='NextSong', level='paid', churn_phase=0),\n",
       " Row(userId='19', firstname='Isabella', ts=1539146776000, page='NextSong', level='paid', churn_phase=0),\n",
       " Row(userId='19', firstname='Isabella', ts=1539147397000, page='NextSong', level='paid', churn_phase=0),\n",
       " Row(userId='19', firstname='Isabella', ts=1539147398000, page='Add Friend', level='paid', churn_phase=0),\n",
       " Row(userId='19', firstname='Isabella', ts=1539147399000, page='Add Friend', level='paid', churn_phase=0),\n",
       " Row(userId='19', firstname='Isabella', ts=1539147577000, page='NextSong', level='paid', churn_phase=0),\n",
       " Row(userId='19', firstname='Isabella', ts=1539147766000, page='NextSong', level='paid', churn_phase=0),\n",
       " Row(userId='19', firstname='Isabella', ts=1539147934000, page='NextSong', level='paid', churn_phase=0),\n",
       " Row(userId='19', firstname='Isabella', ts=1539148116000, page='NextSong', level='paid', churn_phase=0),\n",
       " Row(userId='19', firstname='Isabella', ts=1539148309000, page='NextSong', level='paid', churn_phase=0),\n",
       " Row(userId='19', firstname='Isabella', ts=1539148510000, page='NextSong', level='paid', churn_phase=0),\n",
       " Row(userId='19', firstname='Isabella', ts=1539148927000, page='NextSong', level='paid', churn_phase=0),\n",
       " Row(userId='19', firstname='Isabella', ts=1539149172000, page='NextSong', level='paid', churn_phase=0),\n",
       " Row(userId='19', firstname='Isabella', ts=1539149425000, page='NextSong', level='paid', churn_phase=0),\n",
       " Row(userId='19', firstname='Isabella', ts=1539149746000, page='NextSong', level='paid', churn_phase=0),\n",
       " Row(userId='19', firstname='Isabella', ts=1539149921000, page='NextSong', level='paid', churn_phase=0),\n",
       " Row(userId='19', firstname='Isabella', ts=1539150082000, page='NextSong', level='paid', churn_phase=0),\n",
       " Row(userId='19', firstname='Isabella', ts=1539150452000, page='NextSong', level='paid', churn_phase=0),\n",
       " Row(userId='19', firstname='Isabella', ts=1539150503000, page='Home', level='paid', churn_phase=0),\n",
       " Row(userId='19', firstname='Isabella', ts=1539150627000, page='NextSong', level='paid', churn_phase=0),\n",
       " Row(userId='19', firstname='Isabella', ts=1539150803000, page='NextSong', level='paid', churn_phase=0),\n",
       " Row(userId='19', firstname='Isabella', ts=1539151004000, page='NextSong', level='paid', churn_phase=0),\n",
       " Row(userId='19', firstname='Isabella', ts=1539151462000, page='NextSong', level='paid', churn_phase=0),\n",
       " Row(userId='19', firstname='Isabella', ts=1539151524000, page='Add to Playlist', level='paid', churn_phase=0),\n",
       " Row(userId='19', firstname='Isabella', ts=1539151839000, page='NextSong', level='paid', churn_phase=0),\n",
       " Row(userId='19', firstname='Isabella', ts=1539152099000, page='NextSong', level='paid', churn_phase=0),\n",
       " Row(userId='19', firstname='Isabella', ts=1539152326000, page='NextSong', level='paid', churn_phase=0),\n",
       " Row(userId='19', firstname='Isabella', ts=1539152672000, page='NextSong', level='paid', churn_phase=0),\n",
       " Row(userId='19', firstname='Isabella', ts=1539152916000, page='NextSong', level='paid', churn_phase=0),\n",
       " Row(userId='19', firstname='Isabella', ts=1539152917000, page='Logout', level='paid', churn_phase=0),\n",
       " Row(userId='19', firstname='Isabella', ts=1539152930000, page='Home', level='paid', churn_phase=0),\n",
       " Row(userId='19', firstname='Isabella', ts=1539153220000, page='NextSong', level='paid', churn_phase=0),\n",
       " Row(userId='19', firstname='Isabella', ts=1539153466000, page='NextSong', level='paid', churn_phase=0),\n",
       " Row(userId='19', firstname='Isabella', ts=1539153697000, page='NextSong', level='paid', churn_phase=0),\n",
       " Row(userId='19', firstname='Isabella', ts=1539153957000, page='NextSong', level='paid', churn_phase=0),\n",
       " Row(userId='19', firstname='Isabella', ts=1539153958000, page='Logout', level='paid', churn_phase=0),\n",
       " Row(userId='19', firstname='Isabella', ts=1539154114000, page='Home', level='paid', churn_phase=0),\n",
       " Row(userId='19', firstname='Isabella', ts=1539154125000, page='NextSong', level='paid', churn_phase=0),\n",
       " Row(userId='19', firstname='Isabella', ts=1539154357000, page='NextSong', level='paid', churn_phase=0),\n",
       " Row(userId='19', firstname='Isabella', ts=1539154661000, page='NextSong', level='paid', churn_phase=0),\n",
       " Row(userId='19', firstname='Isabella', ts=1539154833000, page='NextSong', level='paid', churn_phase=0),\n",
       " Row(userId='19', firstname='Isabella', ts=1539154870000, page='Add to Playlist', level='paid', churn_phase=0),\n",
       " Row(userId='19', firstname='Isabella', ts=1539154962000, page='NextSong', level='paid', churn_phase=0),\n",
       " Row(userId='19', firstname='Isabella', ts=1539154963000, page='Logout', level='paid', churn_phase=0),\n",
       " Row(userId='19', firstname='Isabella', ts=1539155046000, page='Home', level='paid', churn_phase=0),\n",
       " Row(userId='19', firstname='Isabella', ts=1539155185000, page='NextSong', level='paid', churn_phase=0),\n",
       " Row(userId='19', firstname='Isabella', ts=1539155452000, page='NextSong', level='paid', churn_phase=0),\n",
       " Row(userId='19', firstname='Isabella', ts=1539155457000, page='Add to Playlist', level='paid', churn_phase=0),\n",
       " Row(userId='19', firstname='Isabella', ts=1539155681000, page='NextSong', level='paid', churn_phase=0),\n",
       " Row(userId='19', firstname='Isabella', ts=1539155749000, page='NextSong', level='paid', churn_phase=0),\n",
       " Row(userId='19', firstname='Isabella', ts=1539155987000, page='NextSong', level='paid', churn_phase=0),\n",
       " Row(userId='19', firstname='Isabella', ts=1539155987000, page='Settings', level='paid', churn_phase=0),\n",
       " Row(userId='19', firstname='Isabella', ts=1539156175000, page='NextSong', level='paid', churn_phase=0),\n",
       " Row(userId='19', firstname='Isabella', ts=1539156217000, page='Home', level='paid', churn_phase=0),\n",
       " Row(userId='19', firstname='Isabella', ts=1539156376000, page='NextSong', level='paid', churn_phase=0),\n",
       " Row(userId='19', firstname='Isabella', ts=1539156560000, page='NextSong', level='paid', churn_phase=0),\n",
       " Row(userId='19', firstname='Isabella', ts=1539156785000, page='NextSong', level='paid', churn_phase=0),\n",
       " Row(userId='19', firstname='Isabella', ts=1539156875000, page='About', level='paid', churn_phase=0),\n",
       " Row(userId='19', firstname='Isabella', ts=1539156887000, page='About', level='paid', churn_phase=0),\n",
       " Row(userId='19', firstname='Isabella', ts=1539156888000, page='Logout', level='paid', churn_phase=0),\n",
       " Row(userId='19', firstname='Isabella', ts=1539156984000, page='Home', level='paid', churn_phase=0),\n",
       " Row(userId='19', firstname='Isabella', ts=1539156992000, page='NextSong', level='paid', churn_phase=0),\n",
       " Row(userId='19', firstname='Isabella', ts=1539157176000, page='NextSong', level='paid', churn_phase=0),\n",
       " Row(userId='19', firstname='Isabella', ts=1539157318000, page='NextSong', level='paid', churn_phase=0),\n",
       " Row(userId='19', firstname='Isabella', ts=1539157468000, page='NextSong', level='paid', churn_phase=0),\n",
       " Row(userId='19', firstname='Isabella', ts=1539157746000, page='NextSong', level='paid', churn_phase=0),\n",
       " Row(userId='19', firstname='Isabella', ts=1539157922000, page='NextSong', level='paid', churn_phase=0),\n",
       " Row(userId='19', firstname='Isabella', ts=1539157923000, page='Thumbs Down', level='paid', churn_phase=0),\n",
       " Row(userId='19', firstname='Isabella', ts=1539158105000, page='NextSong', level='paid', churn_phase=0),\n",
       " Row(userId='19', firstname='Isabella', ts=1539158337000, page='NextSong', level='paid', churn_phase=0),\n",
       " Row(userId='19', firstname='Isabella', ts=1539158573000, page='NextSong', level='paid', churn_phase=0),\n",
       " Row(userId='19', firstname='Isabella', ts=1539158849000, page='NextSong', level='paid', churn_phase=0),\n",
       " Row(userId='19', firstname='Isabella', ts=1539159098000, page='NextSong', level='paid', churn_phase=0),\n",
       " Row(userId='19', firstname='Isabella', ts=1539159099000, page='Thumbs Up', level='paid', churn_phase=0),\n",
       " Row(userId='19', firstname='Isabella', ts=1539159197000, page='NextSong', level='paid', churn_phase=0),\n",
       " Row(userId='19', firstname='Isabella', ts=1539159477000, page='NextSong', level='paid', churn_phase=0),\n",
       " Row(userId='19', firstname='Isabella', ts=1539159649000, page='NextSong', level='paid', churn_phase=0),\n",
       " Row(userId='19', firstname='Isabella', ts=1539159650000, page='Logout', level='paid', churn_phase=0),\n",
       " Row(userId='19', firstname='Isabella', ts=1539159711000, page='Home', level='paid', churn_phase=0)]"
      ]
     },
     "execution_count": 29,
     "metadata": {},
     "output_type": "execute_result"
    }
   ],
   "source": [
    "df.select([\"userId\", \"firstname\", \"ts\", \"page\", \"level\", \"churn_phase\"]).where(df.userId == \"19\").sort(\"ts\").collect()"
   ]
  },
  {
   "cell_type": "code",
   "execution_count": 30,
   "metadata": {},
   "outputs": [
    {
     "name": "stdout",
     "output_type": "stream",
     "text": [
      "+-----------+------------------+\n",
      "|churn_phase|  avg(song_played)|\n",
      "+-----------+------------------+\n",
      "|          0|0.8217840456084702|\n",
      "|          1|0.8112072039942939|\n",
      "+-----------+------------------+\n",
      "\n"
     ]
    }
   ],
   "source": [
    "# Analyse average time spent for churn vs non churn customers\n",
    "# Lets see how many songs were played between churn and non churn customers\n",
    "df = df.withColumn('song_played', F.when(df.page == \"NextSong\", 1).otherwise(0))\n",
    "df.select('churn_phase', 'song_played').groupBy('churn_phase').agg({'song_played':'mean'}).show()"
   ]
  },
  {
   "cell_type": "markdown",
   "metadata": {},
   "source": [
    "### Discussion 4: On average churn vs non-churn users have similar number of average song play"
   ]
  },
  {
   "cell_type": "code",
   "execution_count": 31,
   "metadata": {},
   "outputs": [],
   "source": [
    "# Users will prefer to play songs from some artists. So there will be artists whose songs are played more than others\n",
    "# Lets see what are top artist (lets say top 10) and analyse them\n",
    "artist_count = df.filter(df.page == 'NextSong') \\\n",
    "    .select('Artist') \\\n",
    "    .groupBy('Artist') \\\n",
    "    .agg({'Artist':'count'}) \\\n",
    "    .withColumnRenamed('count(Artist)', 'Artistcount') \\\n",
    "    .sort(F.desc('Artistcount'))"
   ]
  },
  {
   "cell_type": "code",
   "execution_count": 32,
   "metadata": {},
   "outputs": [],
   "source": [
    "artist_count_df = artist_count.toPandas()"
   ]
  },
  {
   "cell_type": "code",
   "execution_count": 33,
   "metadata": {},
   "outputs": [
    {
     "data": {
      "text/html": [
       "<div>\n",
       "<style scoped>\n",
       "    .dataframe tbody tr th:only-of-type {\n",
       "        vertical-align: middle;\n",
       "    }\n",
       "\n",
       "    .dataframe tbody tr th {\n",
       "        vertical-align: top;\n",
       "    }\n",
       "\n",
       "    .dataframe thead th {\n",
       "        text-align: right;\n",
       "    }\n",
       "</style>\n",
       "<table border=\"1\" class=\"dataframe\">\n",
       "  <thead>\n",
       "    <tr style=\"text-align: right;\">\n",
       "      <th></th>\n",
       "      <th>Artist</th>\n",
       "      <th>Artistcount</th>\n",
       "    </tr>\n",
       "  </thead>\n",
       "  <tbody>\n",
       "    <tr>\n",
       "      <th>0</th>\n",
       "      <td>Kings Of Leon</td>\n",
       "      <td>1841</td>\n",
       "    </tr>\n",
       "    <tr>\n",
       "      <th>1</th>\n",
       "      <td>Coldplay</td>\n",
       "      <td>1813</td>\n",
       "    </tr>\n",
       "    <tr>\n",
       "      <th>2</th>\n",
       "      <td>Florence + The Machine</td>\n",
       "      <td>1236</td>\n",
       "    </tr>\n",
       "    <tr>\n",
       "      <th>3</th>\n",
       "      <td>Dwight Yoakam</td>\n",
       "      <td>1135</td>\n",
       "    </tr>\n",
       "    <tr>\n",
       "      <th>4</th>\n",
       "      <td>BjÃÂ¶rk</td>\n",
       "      <td>1133</td>\n",
       "    </tr>\n",
       "    <tr>\n",
       "      <th>5</th>\n",
       "      <td>The Black Keys</td>\n",
       "      <td>1125</td>\n",
       "    </tr>\n",
       "    <tr>\n",
       "      <th>6</th>\n",
       "      <td>Muse</td>\n",
       "      <td>1090</td>\n",
       "    </tr>\n",
       "    <tr>\n",
       "      <th>7</th>\n",
       "      <td>Justin Bieber</td>\n",
       "      <td>1044</td>\n",
       "    </tr>\n",
       "    <tr>\n",
       "      <th>8</th>\n",
       "      <td>Jack Johnson</td>\n",
       "      <td>1007</td>\n",
       "    </tr>\n",
       "    <tr>\n",
       "      <th>9</th>\n",
       "      <td>Eminem</td>\n",
       "      <td>953</td>\n",
       "    </tr>\n",
       "  </tbody>\n",
       "</table>\n",
       "</div>"
      ],
      "text/plain": [
       "                   Artist  Artistcount\n",
       "0           Kings Of Leon         1841\n",
       "1                Coldplay         1813\n",
       "2  Florence + The Machine         1236\n",
       "3           Dwight Yoakam         1135\n",
       "4                BjÃÂ¶rk         1133\n",
       "5          The Black Keys         1125\n",
       "6                    Muse         1090\n",
       "7           Justin Bieber         1044\n",
       "8            Jack Johnson         1007\n",
       "9                  Eminem          953"
      ]
     },
     "execution_count": 33,
     "metadata": {},
     "output_type": "execute_result"
    }
   ],
   "source": [
    "artist_count_df[0:10]"
   ]
  },
  {
   "cell_type": "code",
   "execution_count": 34,
   "metadata": {},
   "outputs": [
    {
     "data": {
      "text/plain": [
       "(array([0, 1, 2, 3, 4, 5, 6, 7, 8, 9]), <a list of 10 Text xticklabel objects>)"
      ]
     },
     "execution_count": 34,
     "metadata": {},
     "output_type": "execute_result"
    },
    {
     "data": {
      "image/png": "[encoded data removed]",
      "text/plain": [
       "<matplotlib.figure.Figure at 0x7f9c6ce81400>"
      ]
     },
     "metadata": {
      "needs_background": "light"
     },
     "output_type": "display_data"
    }
   ],
   "source": [
    "g = sns.barplot(x='Artist', y='Artistcount', data=artist_count_df[0:10] )\n",
    "plt.xticks(rotation=90)"
   ]
  },
  {
   "cell_type": "code",
   "execution_count": 35,
   "metadata": {},
   "outputs": [],
   "source": [
    "# We will try to convert timestamp to date format for day wise analysis\n",
    "day = F.udf(lambda x: datetime.datetime.fromtimestamp(x/1e3), DateType())\n",
    "df = df.withColumn('date', day(F.col(\"ts\")))"
   ]
  },
  {
   "cell_type": "code",
   "execution_count": 36,
   "metadata": {},
   "outputs": [
    {
     "name": "stdout",
     "output_type": "stream",
     "text": [
      "+------+---------+---------+------+-------------+---------+------+-----+--------------------+------+------+-------------+---------+----+------+-------------+--------------------+------+-----+---------+---------+-----------+-----------+----------+\n",
      "|artist|     auth|firstName|gender|itemInSession| lastName|length|level|            location|method|  page| registration|sessionId|song|status|           ts|           userAgent|userId|churn|downgrade|cancelled|churn_phase|song_played|      date|\n",
      "+------+---------+---------+------+-------------+---------+------+-----+--------------------+------+------+-------------+---------+----+------+-------------+--------------------+------+-----+---------+---------+-----------+-----------+----------+\n",
      "|  null|Logged In| Darianna|     F|           34|Carpenter|  null| free|Bridgeport-Stamfo...|   PUT|Logout|1538016340000|      187|null|   307|1542823952000|\"Mozilla/5.0 (iPh...|100010|    0|        0|        0|          0|          0|2018-11-21|\n",
      "+------+---------+---------+------+-------------+---------+------+-----+--------------------+------+------+-------------+---------+----+------+-------------+--------------------+------+-----+---------+---------+-----------+-----------+----------+\n",
      "only showing top 1 row\n",
      "\n"
     ]
    }
   ],
   "source": [
    "df.show(1)"
   ]
  },
  {
   "cell_type": "code",
   "execution_count": 37,
   "metadata": {},
   "outputs": [
    {
     "name": "stdout",
     "output_type": "stream",
     "text": [
      "+-------+-----------------+-----------------+\n",
      "|summary|           userId|            count|\n",
      "+-------+-----------------+-----------------+\n",
      "|  count|              499|              499|\n",
      "|   mean|77394.81563126252|72.93386773547094|\n",
      "| stddev|90869.89716037882|71.24764235703726|\n",
      "|    min|           100001|                1|\n",
      "|    max|               87|              346|\n",
      "+-------+-----------------+-----------------+\n",
      "\n"
     ]
    }
   ],
   "source": [
    "# group by next song events when churn phase == 1 w.r.t. date and user id. \n",
    "df.filter((df.page=='NextSong')&(df.churn_phase == 1)) \\\n",
    "    .select('page', 'date', 'userId') \\\n",
    "    .groupby('date', 'userId') \\\n",
    "    .count().describe().show()"
   ]
  },
  {
   "cell_type": "code",
   "execution_count": 38,
   "metadata": {},
   "outputs": [
    {
     "name": "stdout",
     "output_type": "stream",
     "text": [
      "+-------+------------------+\n",
      "|summary|             count|\n",
      "+-------+------------------+\n",
      "|  count|                54|\n",
      "|   mean| 673.9629629629629|\n",
      "| stddev|510.35522083404277|\n",
      "|    min|                26|\n",
      "|    max|              2047|\n",
      "+-------+------------------+\n",
      "\n"
     ]
    }
   ],
   "source": [
    "#Overall describe\n",
    "df.filter((df.page=='NextSong')&(df.churn_phase == 1)) \\\n",
    "    .select('page', 'date') \\\n",
    "    .groupby('date') \\\n",
    "    .count().describe().show()"
   ]
  },
  {
   "cell_type": "code",
   "execution_count": 39,
   "metadata": {},
   "outputs": [
    {
     "name": "stdout",
     "output_type": "stream",
     "text": [
      "+-------+------------------+-----------------+\n",
      "|summary|            userId|            count|\n",
      "+-------+------------------+-----------------+\n",
      "|  count|              2559|             2559|\n",
      "|   mean| 64501.19812426729|74.91754591637358|\n",
      "| stddev|114144.74005493971|74.02407951472071|\n",
      "|    min|                10|                1|\n",
      "|    max|                99|              360|\n",
      "+-------+------------------+-----------------+\n",
      "\n"
     ]
    }
   ],
   "source": [
    "# group by next song events when churn phase == 0 w.r.t. date and user id. \n",
    "df.filter((df.page=='NextSong')&(df.churn_phase == 0)) \\\n",
    "    .select('page', 'date', 'userId') \\\n",
    "    .groupby('date', 'userId') \\\n",
    "    .count().describe().show()"
   ]
  },
  {
   "cell_type": "code",
   "execution_count": 40,
   "metadata": {},
   "outputs": [
    {
     "name": "stdout",
     "output_type": "stream",
     "text": [
      "+-------+------------------+\n",
      "|summary|             count|\n",
      "+-------+------------------+\n",
      "|  count|                63|\n",
      "|   mean|3043.0793650793653|\n",
      "| stddev|1117.7043336547276|\n",
      "|    min|                 1|\n",
      "|    max|              5573|\n",
      "+-------+------------------+\n",
      "\n"
     ]
    }
   ],
   "source": [
    "df.filter((df.page=='NextSong')&(df.churn_phase == 0)) \\\n",
    "    .select('page', 'date') \\\n",
    "    .groupby('date') \\\n",
    "    .count().describe().show()"
   ]
  },
  {
   "cell_type": "code",
   "execution_count": 64,
   "metadata": {},
   "outputs": [
    {
     "name": "stdout",
     "output_type": "stream",
     "text": [
      "+------------------+\n",
      "|avg(count(period))|\n",
      "+------------------+\n",
      "| 23.60389072847682|\n",
      "+------------------+\n",
      "\n"
     ]
    }
   ],
   "source": [
    "# filter out 0 sum and max sum to get more exact answer\n",
    "#How many songs do users listen to on average between visiting our home page?\n",
    "function = F.udf(lambda ishome : int(ishome == 'Home'), IntegerType())\n",
    "\n",
    "user_window = Window \\\n",
    "    .partitionBy('userID') \\\n",
    "    .orderBy(F.desc('ts')) \\\n",
    "    .rangeBetween(Window.unboundedPreceding, 0)\n",
    "\n",
    "cusum = df.filter((df.page == 'NextSong') | (df.page == 'Home')) \\\n",
    "    .select('userID', 'page', 'ts', 'churn_phase') \\\n",
    "    .withColumn('homevisit', function(F.col('page'))) \\\n",
    "    .withColumn('period', F.sum('homevisit').over(user_window))\n",
    "\n",
    "cusum.filter((cusum.page == 'NextSong')) \\\n",
    "    .groupBy('userID', 'period') \\\n",
    "    .agg({'period':'count'}) \\\n",
    "    .agg({'count(period)':'avg'}).show()"
   ]
  },
  {
   "cell_type": "code",
   "execution_count": 42,
   "metadata": {},
   "outputs": [
    {
     "name": "stdout",
     "output_type": "stream",
     "text": [
      "+------------------+\n",
      "|avg(count(period))|\n",
      "+------------------+\n",
      "|  22.6612702366127|\n",
      "+------------------+\n",
      "\n"
     ]
    }
   ],
   "source": [
    "# Lets see if there is a difference between churn and non-chrun users\n",
    "cusum.filter((cusum.page=='NextSong') & (cusum.churn_phase == 1)) \\\n",
    "    .groupBy('userID', 'period') \\\n",
    "    .agg({'period':'count'}) \\\n",
    "    .agg({'count(period)':'avg'}).show()"
   ]
  },
  {
   "cell_type": "code",
   "execution_count": 43,
   "metadata": {},
   "outputs": [
    {
     "name": "stdout",
     "output_type": "stream",
     "text": [
      "+------------------+\n",
      "|avg(count(period))|\n",
      "+------------------+\n",
      "| 23.79175974187143|\n",
      "+------------------+\n",
      "\n"
     ]
    }
   ],
   "source": [
    "# Lets see if there is a difference between churn and non-chrun users\n",
    "cusum.filter((cusum.page=='NextSong') & (cusum.churn_phase == 0)) \\\n",
    "    .groupBy('userID', 'period') \\\n",
    "    .agg({'period':'count'}) \\\n",
    "    .agg({'count(period)':'avg'}).show()"
   ]
  },
  {
   "cell_type": "markdown",
   "metadata": {},
   "source": [
    "### Discussion 5: It appears that on average customer who churned has lesser number of songs played between their visits (Two consecutive home page visits)"
   ]
  },
  {
   "cell_type": "code",
   "execution_count": 45,
   "metadata": {},
   "outputs": [
    {
     "name": "stdout",
     "output_type": "stream",
     "text": [
      "+-----------+------------------+\n",
      "|churn_phase|       avg(length)|\n",
      "+-----------+------------------+\n",
      "|          0|249.20913538880808|\n",
      "|          1| 248.6327956440622|\n",
      "+-----------+------------------+\n",
      "\n"
     ]
    }
   ],
   "source": [
    "# Do people listening habbit differ in two groups, i.e. do people song legths differ\n",
    "df.select(['length', 'churn_phase']).groupBy('churn_phase').agg({'length': 'mean'}).show()"
   ]
  },
  {
   "cell_type": "markdown",
   "metadata": {},
   "source": [
    "### Discussion 6: From above table it is clear that people who churned have less mean length of song played when compared to non-churned users"
   ]
  },
  {
   "cell_type": "code",
   "execution_count": 47,
   "metadata": {},
   "outputs": [
    {
     "name": "stdout",
     "output_type": "stream",
     "text": [
      "+-----------+-----+\n",
      "|churn_phase|count|\n",
      "+-----------+-----+\n",
      "|          0|  220|\n",
      "|          1|   32|\n",
      "+-----------+-----+\n",
      "\n"
     ]
    }
   ],
   "source": [
    "# Lets check if there is any effect of error page on churn\n",
    "df.filter((df.page=='Error')).groupBy('churn_phase').count().show()"
   ]
  },
  {
   "cell_type": "code",
   "execution_count": 48,
   "metadata": {},
   "outputs": [],
   "source": [
    "# I want to analyse if song skipping has some effect on user churn events.. So after removing thumps up/thumbs down\n",
    "# events which may mostly appear duing song play, I am comparing length of song played between two consecutive next\n",
    "# song page. If the song length played is differnt than song actual length then we can assume that songs were skipped.\n",
    "session = Window.partitionBy(\"userId\", \"sessionId\").orderBy(F.desc(\"ts\"))\n",
    "\n",
    "skipped = df.select(\"userId\", \"sessionId\", \"itemInSession\", \"page\", \"ts\", \"length\")\\\n",
    "            .filter((df.page != \"Thumbs Up\") & (df.page != \"Thumbs Down\")) \\\n",
    "            .withColumn('next_song', F.when(df.page == \"NextSong\", 1).otherwise(0))\\\n",
    "            .orderBy('userId', 'sessionId', 'itemInSession') \\\n",
    "            .withColumn('next_lag_song', F.lag(F.col('next_song')).over(session))\\\n",
    "            .withColumn('ts_diff', (F.lag('ts').over(session)-F.col('ts'))/1000)\\\n",
    "            .withColumn('time_skipped', (F.floor('length')-F.col('ts_diff'))) \\\n",
    "            .filter(((F.col(\"time_skipped\") >= 0) & (F.col(\"next_song\") ==1)) & (F.col(\"next_lag_song\") != 0)) \\\n",
    "            .withColumn('skipped', F.when(F.col(\"time_skipped\") == 0, 0).otherwise(1)) \\\n",
    "            .groupby('userId')\\\n",
    "            .agg({'skipped': 'sum', 'time_skipped': 'mean'}) \\\n",
    "            .withColumnRenamed('sum(skipped)', 'total_songs_skipped')\\\n",
    "            .withColumnRenamed('avg(time_skipped)', 'avg_length_skipped')\n",
    "            "
   ]
  },
  {
   "cell_type": "code",
   "execution_count": 49,
   "metadata": {},
   "outputs": [
    {
     "name": "stdout",
     "output_type": "stream",
     "text": [
      "+------+------------------+-------------------+\n",
      "|userId|avg_length_skipped|total_songs_skipped|\n",
      "+------+------------------+-------------------+\n",
      "|100010|               0.0|                  0|\n",
      "|200002|               0.0|                  0|\n",
      "|   125|               0.0|                  0|\n",
      "|    51|               0.0|                  0|\n",
      "|   124|               0.0|                  0|\n",
      "|     7|               0.0|                  0|\n",
      "|    54|               0.0|                  0|\n",
      "|    15|               0.0|                  0|\n",
      "|   155|               0.0|                  0|\n",
      "|100014|               0.0|                  0|\n",
      "|   132|               0.0|                  0|\n",
      "|   154|               0.0|                  0|\n",
      "|   101|               0.0|                  0|\n",
      "|    11|               0.0|                  0|\n",
      "|300017|               0.0|                  0|\n",
      "|   138|               0.0|                  0|\n",
      "|    29|               0.0|                  0|\n",
      "|    69|               0.0|                  0|\n",
      "|100021|               0.0|                  0|\n",
      "|    42|               0.0|                  0|\n",
      "+------+------------------+-------------------+\n",
      "only showing top 20 rows\n",
      "\n"
     ]
    }
   ],
   "source": [
    "skipped.orderBy(F.desc(\"total_songs_skipped\")).show()"
   ]
  },
  {
   "cell_type": "markdown",
   "metadata": {},
   "source": [
    "### Discussion 7: In my analysis, it appears that people are not skipping songs. But it is possible that we are working on small subset and the actual larger dataset may not display same property. So for larger dataset, I maay need to analyse it once more and then decide if I want to include this into modelling.\n",
    "\n"
   ]
  },
  {
   "cell_type": "markdown",
   "metadata": {},
   "source": [
    "# Feature Engineering\n",
    "Once you've familiarized yourself with the data, build out the features you find promising to train your model on. To work with the full dataset, you can follow the following steps.\n",
    "- Write a script to extract the necessary features from the smaller subset of data\n",
    "- Ensure that your script is scalable, using the best practices discussed in Lesson 3\n",
    "- Try your script on the full data set, debugging your script if necessary\n",
    "\n",
    "If you are working in the classroom workspace, you can just extract features based on the small subset of data contained here. Be sure to transfer over this work to the larger dataset when you work on your Spark cluster."
   ]
  },
  {
   "cell_type": "code",
   "execution_count": 51,
   "metadata": {},
   "outputs": [],
   "source": [
    "# Lets create feature engineering function\n",
    "def feature_engineering(file_path):\n",
    "    \"\"\"\n",
    "    This function creates necessary features for our machine learning model. \n",
    "    Input:\n",
    "        file_path: A json file as input\n",
    "    output:\n",
    "        features: user specific feature dataframe for modelling\n",
    "    \"\"\"\n",
    "    # Read json file\n",
    "    df = spark.read.json(file_path)\n",
    "    \n",
    "    # Remove users who have empty user ID\n",
    "    users = df.filter(df[\"userId\"] != \"\")\n",
    "    \n",
    "    # Create custom udf functions\n",
    "    churn = F.udf(lambda x: int(x==\"Cancellation Confirmation\"), IntegerType())\n",
    "    downgrade = F.udf(lambda x: int(x == \"Downgrade\"), IntegerType())\n",
    "    day = F.udf(lambda x: datetime.datetime.fromtimestamp(x/1e3), DateType())\n",
    "    home = F.udf(lambda ishome : int(ishome == 'Home'), IntegerType())\n",
    "    next_song = F.udf(lambda isnext: int(isnext == \"\"))\n",
    "    df = df.withColumn('song_played', F.when(df.page == \"NextSong\", 1).otherwise(0))\n",
    "        \n",
    "    # Partion data on time based window\n",
    "    windowval = Window.partitionBy(\"userId\").orderBy(F.desc(\"ts\")).rangeBetween(Window.unboundedPreceding, 0)\n",
    "    session_window =  Window.partitionBy(\"userId\", \"sessionId\").orderBy(F.desc(\"ts\"))\\\n",
    "                            .rangeBetween(Window.unboundedPreceding, 0)\n",
    "\n",
    "    # Create a date feature from time stamp column\n",
    "    users = users.withColumn('date', day(F.col(\"ts\")))\n",
    "    \n",
    "    # compute how many Add to Playlist is performed for each user on daily basis\n",
    "    avg_add_playlist = users.select('userId', 'page', 'date')\\\n",
    "                            .filter(users.page == 'Add to Playlist')\\\n",
    "                            .groupBy('userId', 'date') \\\n",
    "                            .agg({'page': 'count'}) \\\n",
    "                            .groupby('userId') \\\n",
    "                            .mean()\\\n",
    "                            .withColumnRenamed('avg(count(page))', 'avg_playlist_add')\n",
    "    \n",
    "    # Compute avg error page faced by each user \n",
    "    avg_error = users.select('userId', 'page', 'date')\\\n",
    "                            .filter(users.page == 'Error')\\\n",
    "                            .groupBy('userId', 'date') \\\n",
    "                            .agg({'page': 'count'}) \\\n",
    "                            .groupby('userId') \\\n",
    "                            .mean()\\\n",
    "                            .withColumnRenamed('avg(count(page))', 'avg_error')\n",
    "    \n",
    "    # compute avg no of Help asked by each user\n",
    "    avg_help = users.select('userId', 'page', 'date')\\\n",
    "                            .filter(users.page == 'Help')\\\n",
    "                            .groupBy('userId', 'date') \\\n",
    "                            .agg({'page': 'count'}) \\\n",
    "                            .groupby('userId') \\\n",
    "                            .mean()\\\n",
    "                            .withColumnRenamed('avg(count(page))', 'avg_help')\n",
    "    \n",
    "    # Compute how many thumbs up were done by a user on average\n",
    "    avg_thumbs_up = users.select('userId', 'page', 'date')\\\n",
    "                            .filter(users.page == 'Thumbs Up')\\\n",
    "                            .groupBy('userId', 'date') \\\n",
    "                            .agg({'page': 'count'}) \\\n",
    "                            .groupby('userId') \\\n",
    "                            .mean()\\\n",
    "                            .withColumnRenamed('avg(count(page))', 'avg_thumbs_up')\n",
    "    \n",
    "    # Compute how many thumbs down were done by a user\n",
    "    avg_thumbs_down = users.select('userId', 'page', 'date')\\\n",
    "                            .filter(users.page == 'Thumbs Down')\\\n",
    "                            .groupBy('userId', 'date') \\\n",
    "                            .agg({'page': 'count'}) \\\n",
    "                            .groupby('userId') \\\n",
    "                            .mean()\\\n",
    "                            .withColumnRenamed('avg(count(page))', 'avg_thumbs_down')\n",
    "    \n",
    "    # Compute mean freinds added for each user\n",
    "    count_freinds = users.select('userId', 'page')\\\n",
    "                        .filter(users.page == 'Add Friend')\\\n",
    "                        .groupBy('userId') \\\n",
    "                        .agg({'page': 'count'}) \\\n",
    "                        .withColumnRenamed('count(page)', 'count_freinds')\n",
    "    \n",
    "    # Calculate Average number of songs played before user moved to home page\n",
    "    cusum = users.filter((users.page == 'NextSong') | (users.page == 'Home')) \\\n",
    "                .select('userID', 'page', 'ts') \\\n",
    "                .withColumn('homevisit', home(F.col('page'))) \\\n",
    "                .withColumn('period', F.sum('homevisit').over(windowval))\n",
    "\n",
    "    avg_num_song_till_home = cusum.filter((cusum.page == 'NextSong')) \\\n",
    "                                    .groupBy('userID', 'period') \\\n",
    "                                    .agg({'period':'count'}).drop('period') \\\n",
    "                                    .groupby('userID').mean() \\\n",
    "                                    .withColumnRenamed('avg(count(period))', 'avg_num_songs')\n",
    "    \n",
    "    # Create a feature for paid vs free user\n",
    "    paid_free = users.select('userID', 'level') \\\n",
    "                        .dropDuplicates() \\\n",
    "                        .withColumn('paid_free', F.when(users.level == \"paid\", 1).otherwise(0)) \\\n",
    "                        .drop('level')\n",
    "    \n",
    "    # whether a user has downgraded or not\n",
    "    churn = users.withColumn(\"churn\", F.when((users.page == \"Cancellation Confirmation\") , 1).otherwise(0)) \\\n",
    "                    .withColumn(\"vist_downgrade\", F.when((users.page == \"Downgrade\") , 1).otherwise(0)) \\\n",
    "                    .withColumn(\"downgrade\", F.when((users.page == \"Submit Downgrade\") , 1).otherwise(0)) \\\n",
    "                    .select(['userId', 'churn', 'vist_downgrade', \"downgrade\"]) \\\n",
    "                    .groupBy('userId') \\\n",
    "                    .sum()\\\n",
    "                    .withColumnRenamed('sum(churn)', 'churn') \\\n",
    "                    .withColumnRenamed('sum(vist_downgrade)', 'vist_downgrade') \\\n",
    "                    .withColumnRenamed('sum(downgrade)', 'downgrade')\n",
    "\n",
    "    \n",
    "    # Combine all the features computed above to create feature dataframe\n",
    "    features = avg_thumbs_up.join(avg_thumbs_down, on='userID')\n",
    "    features = features.join(avg_num_song_till_home, on='userID')\n",
    "    features = features.join(avg_add_playlist, on='userID')\n",
    "    features = features.join(avg_error, on='userID')\n",
    "    features = features.join(avg_help, on='userID')\n",
    "    features = features.join(count_freinds, on='userID')\n",
    "    features = features.join(paid_free, on='userID')\n",
    "    features = features.join(churn, on='userID')\n",
    "    \n",
    "    return features\n",
    "    "
   ]
  },
  {
   "cell_type": "code",
   "execution_count": 52,
   "metadata": {},
   "outputs": [],
   "source": [
    "# Define a function to get vector assembler and transform data \n",
    "def feature_prep(df):\n",
    "    \"\"\"\n",
    "    Function to get vector assembler for modelling\n",
    "    input:\n",
    "        df: feature dataframe\n",
    "    output:\n",
    "        transfored data\n",
    "    \"\"\"\n",
    "    feat_vec = VectorAssembler(inputCols=df.drop('userId', 'churn').columns, outputCol='features')\n",
    "    transformed_data = feat_vec.transform(df)\n",
    "    return transformed_data"
   ]
  },
  {
   "cell_type": "code",
   "execution_count": 90,
   "metadata": {},
   "outputs": [],
   "source": [
    "def train_test(df):\n",
    "    \"\"\"\n",
    "    Function to split data into training and testing (training and validation)\n",
    "    Input:\n",
    "        df: transformed data frame\n",
    "    output:\n",
    "        training data: dataframe for trainign\n",
    "        remaining_data: remaining data frame for validation/test\n",
    "    \"\"\"\n",
    "    (training_data, remaining_data) = df.randomSplit([0.8,0.2], seed = 21)\n",
    "#     (test_data, val_data) = remaining_data.randomSplit([0.5,0.5], seed=21)\n",
    "    return training_data, remaining_data, #test_data, val_data"
   ]
  },
  {
   "cell_type": "code",
   "execution_count": 54,
   "metadata": {},
   "outputs": [],
   "source": [
    "feat = feature_engineering(\"mini_sparkify_event_data.json\")"
   ]
  },
  {
   "cell_type": "code",
   "execution_count": 55,
   "metadata": {},
   "outputs": [],
   "source": [
    "tran_feat = feature_prep(feat)\n",
    "train, rest = train_test(tran_feat)"
   ]
  },
  {
   "cell_type": "code",
   "execution_count": 56,
   "metadata": {},
   "outputs": [
    {
     "data": {
      "text/plain": [
       "[Row(userId='51', avg_thumbs_up=8.333333333333334, avg_thumbs_down=2.1, avg_num_songs=29.319444444444443, avg_playlist_add=5.2, avg_error=1.0, avg_help=1.7142857142857142, count_freinds=28, paid_free=1, churn=1, vist_downgrade=23, downgrade=0, features=DenseVector([8.3333, 2.1, 29.3194, 5.2, 1.0, 1.7143, 28.0, 1.0, 23.0, 0.0]))]"
      ]
     },
     "execution_count": 56,
     "metadata": {},
     "output_type": "execute_result"
    }
   ],
   "source": [
    "train.take(1)"
   ]
  },
  {
   "cell_type": "markdown",
   "metadata": {},
   "source": [
    "# Modeling\n",
    "Split the full dataset into train, test, and validation sets. Test out several of the machine learning methods you learned. Evaluate the accuracy of the various models, tuning parameters as necessary. Determine your winning model based on test accuracy and report results on the validation set. Since the churned users are a fairly small subset, I suggest using F1 score as the metric to optimize."
   ]
  },
  {
   "cell_type": "code",
   "execution_count": 92,
   "metadata": {},
   "outputs": [],
   "source": [
    "from pyspark.mllib.evaluation import MulticlassMetrics\n",
    "from pyspark.sql.types import FloatType\n",
    "from pyspark.ml.evaluation import MulticlassClassificationEvaluator\n",
    "from pyspark.ml.classification import RandomForestClassifier\n",
    "from pyspark.ml.tuning import CrossValidator, ParamGridBuilder\n",
    "from pyspark.ml.classification import LogisticRegression, GBTClassifier, RandomForestClassifier\n",
    "import numpy as np\n",
    "\n",
    "def evaluate_model(predictions, model):\n",
    "    \"\"\"\n",
    "    This function evaluates model performance given prediction dataframe\n",
    "    input:\n",
    "        predictions: prediction dataframe from the model\n",
    "        model: model name\n",
    "    \"\"\"\n",
    "    preds_and_labels = predictions.select(['prediction', 'churn'])\\\n",
    "                                    .withColumn('label', F.col('churn').cast(FloatType()))\n",
    "    \n",
    "    #select only prediction and label columns\n",
    "    # Ref: https://stackoverflow.com/questions/58404845/confusion-matrix-to-get-precsion-recall-f1score\n",
    "    preds_and_labels = preds_and_labels.select(['prediction','label'])\n",
    "    metrics = MulticlassMetrics(preds_and_labels.rdd.map(tuple))\n",
    "    cm = metrics.confusionMatrix().toArray() \n",
    "    \n",
    "    # Plot confusion matrix\n",
    "    # https://stackoverflow.com/questions/35572000/how-can-i-plot-a-confusion-matrix\n",
    "    ax = sns.heatmap(cm, annot=True, annot_kws={\"size\": 12})\n",
    "    ax.set(xlabel='Predicted label', ylabel='True label', title='Confusion Matrix')\n",
    "    plt.show()\n",
    "    \n",
    "    # As accuracy is not a great metric for imbalanced dataset\n",
    "    # Ref: https://stackoverflow.com/questions/41032256/get-same-value-for-precision-recall-and-f-score-in-apache-spark-logistic-regres\n",
    "    accuracy=(cm[0][0]+cm[1][1])/cm.sum()\n",
    "    precision=(cm[0][0])/(cm[0][0]+cm[1][0])\n",
    "    recall=(cm[0][0])/(cm[0][0]+cm[0][1])\n",
    "    print(model)\n",
    "    print(\"\\t| accuracy = {}\".format(accuracy))\n",
    "    print(\"\\t| precision = {}\".format(precision))\n",
    "    print(\"\\t| recall = {}\".format(recall))\n"
   ]
  },
  {
   "cell_type": "code",
   "execution_count": null,
   "metadata": {},
   "outputs": [],
   "source": [
    "# Train a random forest model using cross validation and grid search. Best model is used for evaluation\n",
    "rf = RandomForestClassifier(labelCol='churn', \n",
    "                            featuresCol='features')\n",
    "paramGrid = ParamGridBuilder() \\\n",
    "            .addGrid(rf.maxDepth,[3, 5]) \\\n",
    "            .addGrid(rf.numTrees, [10, 20])\\\n",
    "            .build()\n",
    "\n",
    "\n",
    "crossval = CrossValidator(estimator=rf,\n",
    "                          estimatorParamMaps=paramGrid,\n",
    "                          evaluator=MulticlassClassificationEvaluator(labelCol='churn', metricName=\"f1\"),\n",
    "                          numFolds=3)\n",
    "cvModel_q1 = crossval.fit(train)\n",
    "print(cvModel_q1.avgMetrics)\n",
    "print(cvModel_q1.getEstimatorParamMaps()[ np.argmax(cvModel_q1.avgMetrics) ])\n",
    "model = cvModel_q1.bestModel\n",
    "rf_predictions = model.transform(rest)\n",
    "evaluate_model(rf_predictions, 'Random forest classification')"
   ]
  },
  {
   "cell_type": "code",
   "execution_count": null,
   "metadata": {},
   "outputs": [],
   "source": [
    "# Fit a logistic regression model using cross validation and grid search. Best model is used for evaluation\n",
    "lr = LogisticRegression(featuresCol = 'features', labelCol = 'churn', maxIter=10)\n",
    "paramGrid = ParamGridBuilder() \\\n",
    "            .addGrid(lr.regParam,[0.0, 0.1, 0.2, 0.01]) \\\n",
    "            .build()\n",
    "\n",
    "\n",
    "crossval = CrossValidator(estimator=lr,\n",
    "                          estimatorParamMaps=paramGrid,\n",
    "                          evaluator=MulticlassClassificationEvaluator(labelCol='churn', metricName=\"f1\"),\n",
    "                          numFolds=3)\n",
    "cvModel_q1 = crossval.fit(train)\n",
    "print(cvModel_q1.avgMetrics)"
   ]
  },
  {
   "cell_type": "code",
   "execution_count": null,
   "metadata": {},
   "outputs": [],
   "source": [
    "print(cvModel_q1.getEstimatorParamMaps()[ np.argmax(cvModel_q1.avgMetrics) ])\n",
    "model = cvModel_q1.bestModel\n",
    "lr_predictions = model.transform(rest)\n",
    "evaluate_model(lr_predictions, 'Logistic regression')"
   ]
  },
  {
   "cell_type": "code",
   "execution_count": null,
   "metadata": {},
   "outputs": [],
   "source": [
    "# Train a gradient boosted classifer using cross validation and grid search. Best model is used for evaluation\n",
    "gbt = GBTClassifier(labelCol = 'churn', featuresCol = 'features' ,)\n",
    "paramGrid = ParamGridBuilder() \\\n",
    "            .addGrid(gbt.maxDepth,[3, 5]) \\\n",
    "            .addGrid(gbt.maxIter, [10, 20])\\\n",
    "            .build()\n",
    "\n",
    "\n",
    "crossval = CrossValidator(estimator=gbt,\n",
    "                          estimatorParamMaps=paramGrid,\n",
    "                          evaluator=MulticlassClassificationEvaluator(labelCol='churn', metricName=\"f1\"),\n",
    "                          numFolds=3)\n",
    "cvModel_gbt = crossval.fit(train)\n",
    "print(cvModel_gbt.avgMetrics)\n",
    "print(cvModel_gbt.getEstimatorParamMaps()[ np.argmax(cvModel_gbt.avgMetrics) ])\n",
    "model = cvModel_gbt.bestModel\n",
    "gbt_predictions = model.transform(test)\n",
    "evaluate_model(gbt_predictions, 'Gradient boosting classification')"
   ]
  },
  {
   "cell_type": "markdown",
   "metadata": {},
   "source": [
    "# Final Steps\n",
    "Clean up your code, adding comments and renaming variables to make the code easier to read and maintain. Refer to the Spark Project Overview page and Data Scientist Capstone Project Rubric to make sure you are including all components of the capstone project and meet all expectations. Remember, this includes thorough documentation in a README file in a Github repository, as well as a web app or blog post."
   ]
  },
  {
   "cell_type": "code",
   "execution_count": null,
   "metadata": {},
   "outputs": [],
   "source": []
  },
  {
   "cell_type": "code",
   "execution_count": null,
   "metadata": {},
   "outputs": [],
   "source": []
  }
 ],
 "metadata": {
  "kernelspec": {
   "display_name": "Python 3",
   "language": "python",
   "name": "python3"
  },
  "language_info": {
   "codemirror_mode": {
    "name": "ipython",
    "version": 3
   },
   "file_extension": ".py",
   "mimetype": "text/x-python",
   "name": "python",
   "nbconvert_exporter": "python",
   "pygments_lexer": "ipython3",
   "version": "3.6.3"
  }
 },
 "nbformat": 4,
 "nbformat_minor": 2
}
